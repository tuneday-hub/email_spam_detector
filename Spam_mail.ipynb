{
  "nbformat": 4,
  "nbformat_minor": 0,
  "metadata": {
    "colab": {
      "provenance": [],
      "authorship_tag": "ABX9TyOIF28dmrJKdcQYbEUyi++r",
      "include_colab_link": true
    },
    "kernelspec": {
      "name": "python3",
      "display_name": "Python 3"
    },
    "language_info": {
      "name": "python"
    }
  },
  "cells": [
    {
      "cell_type": "markdown",
      "metadata": {
        "id": "view-in-github",
        "colab_type": "text"
      },
      "source": [
        "<a href=\"https://colab.research.google.com/github/tuneday-hub/email_spam_detector/blob/master/Spam_mail.ipynb\" target=\"_parent\"><img src=\"https://colab.research.google.com/assets/colab-badge.svg\" alt=\"Open In Colab\"/></a>"
      ]
    },
    {
      "cell_type": "markdown",
      "source": [
        "## **AN EMAIL SPAM DETECTOR**\n",
        "  Dataset was extracted from kaggle\n",
        "\n"
      ],
      "metadata": {
        "id": "5E3WxFmdn38i"
      }
    },
    {
      "cell_type": "markdown",
      "source": [
        "**1) MOUNT GOOGLE DRIVE THAT CONTAINS THE DATASET**"
      ],
      "metadata": {
        "id": "CHKkIwp1ZSYm"
      }
    },
    {
      "cell_type": "code",
      "execution_count": 80,
      "metadata": {
        "id": "55DKefvzY3HB",
        "colab": {
          "base_uri": "https://localhost:8080/"
        },
        "outputId": "4fa3db88-af14-4a48-ef06-fa7bfb4fd2b8"
      },
      "outputs": [
        {
          "output_type": "stream",
          "name": "stdout",
          "text": [
            "Drive already mounted at /content/drive; to attempt to forcibly remount, call drive.mount(\"/content/drive\", force_remount=True).\n"
          ]
        }
      ],
      "source": [
        "from google.colab import drive\n",
        "drive.mount('/content/drive')"
      ]
    },
    {
      "cell_type": "markdown",
      "source": [
        "**2) IMPORT PACKAGES**"
      ],
      "metadata": {
        "id": "k2mwpSS6bFTd"
      }
    },
    {
      "cell_type": "code",
      "source": [
        "import numpy as np\n",
        "import pandas as pd\n",
        "import nltk\n",
        "from nltk.corpus import stopwords\n",
        "import string"
      ],
      "metadata": {
        "id": "QudIZt5MbOvL"
      },
      "execution_count": 81,
      "outputs": []
    },
    {
      "cell_type": "markdown",
      "source": [
        "**3) READ THE CSV FILE**"
      ],
      "metadata": {
        "id": "gek4VhhsbYJ6"
      }
    },
    {
      "cell_type": "code",
      "source": [
        "dataset = pd.read_csv('/content/drive/MyDrive/Dataset/spam_ham_dataset.csv')"
      ],
      "metadata": {
        "id": "AjJxLmEhbf62"
      },
      "execution_count": 82,
      "outputs": []
    },
    {
      "cell_type": "markdown",
      "source": [
        "**4) PRINT THE FIRST TEN ROWS OF DATA**"
      ],
      "metadata": {
        "id": "4nu1LSoDcW2O"
      }
    },
    {
      "cell_type": "code",
      "source": [
        "dataset.head(10)"
      ],
      "metadata": {
        "id": "ysjWNz4McIs-",
        "colab": {
          "base_uri": "https://localhost:8080/",
          "height": 363
        },
        "outputId": "de911d1e-724d-45a1-8ff8-21d0e0a42275"
      },
      "execution_count": 83,
      "outputs": [
        {
          "output_type": "execute_result",
          "data": {
            "text/plain": [
              "   Unnamed: 0 label                                               text  \\\n",
              "0         605   ham  Subject: enron methanol ; meter # : 988291\\r\\n...   \n",
              "1        2349   ham  Subject: hpl nom for january 9 , 2001\\r\\n( see...   \n",
              "2        3624   ham  Subject: neon retreat\\r\\nho ho ho , we ' re ar...   \n",
              "3        4685  spam  Subject: photoshop , windows , office . cheap ...   \n",
              "4        2030   ham  Subject: re : indian springs\\r\\nthis deal is t...   \n",
              "5        2949   ham  Subject: ehronline web address change\\r\\nthis ...   \n",
              "6        2793   ham  Subject: spring savings certificate - take 30 ...   \n",
              "7        4185  spam  Subject: looking for medication ? we ` re the ...   \n",
              "8        2641   ham  Subject: noms / actual flow for 2 / 26\\r\\nwe a...   \n",
              "9        1870   ham  Subject: nominations for oct . 21 - 23 , 2000\\...   \n",
              "\n",
              "   label_num  \n",
              "0          0  \n",
              "1          0  \n",
              "2          0  \n",
              "3          1  \n",
              "4          0  \n",
              "5          0  \n",
              "6          0  \n",
              "7          1  \n",
              "8          0  \n",
              "9          0  "
            ],
            "text/html": [
              "\n",
              "  <div id=\"df-4e7dfaa4-573d-4787-8ea6-14cf29dea547\">\n",
              "    <div class=\"colab-df-container\">\n",
              "      <div>\n",
              "<style scoped>\n",
              "    .dataframe tbody tr th:only-of-type {\n",
              "        vertical-align: middle;\n",
              "    }\n",
              "\n",
              "    .dataframe tbody tr th {\n",
              "        vertical-align: top;\n",
              "    }\n",
              "\n",
              "    .dataframe thead th {\n",
              "        text-align: right;\n",
              "    }\n",
              "</style>\n",
              "<table border=\"1\" class=\"dataframe\">\n",
              "  <thead>\n",
              "    <tr style=\"text-align: right;\">\n",
              "      <th></th>\n",
              "      <th>Unnamed: 0</th>\n",
              "      <th>label</th>\n",
              "      <th>text</th>\n",
              "      <th>label_num</th>\n",
              "    </tr>\n",
              "  </thead>\n",
              "  <tbody>\n",
              "    <tr>\n",
              "      <th>0</th>\n",
              "      <td>605</td>\n",
              "      <td>ham</td>\n",
              "      <td>Subject: enron methanol ; meter # : 988291\\r\\n...</td>\n",
              "      <td>0</td>\n",
              "    </tr>\n",
              "    <tr>\n",
              "      <th>1</th>\n",
              "      <td>2349</td>\n",
              "      <td>ham</td>\n",
              "      <td>Subject: hpl nom for january 9 , 2001\\r\\n( see...</td>\n",
              "      <td>0</td>\n",
              "    </tr>\n",
              "    <tr>\n",
              "      <th>2</th>\n",
              "      <td>3624</td>\n",
              "      <td>ham</td>\n",
              "      <td>Subject: neon retreat\\r\\nho ho ho , we ' re ar...</td>\n",
              "      <td>0</td>\n",
              "    </tr>\n",
              "    <tr>\n",
              "      <th>3</th>\n",
              "      <td>4685</td>\n",
              "      <td>spam</td>\n",
              "      <td>Subject: photoshop , windows , office . cheap ...</td>\n",
              "      <td>1</td>\n",
              "    </tr>\n",
              "    <tr>\n",
              "      <th>4</th>\n",
              "      <td>2030</td>\n",
              "      <td>ham</td>\n",
              "      <td>Subject: re : indian springs\\r\\nthis deal is t...</td>\n",
              "      <td>0</td>\n",
              "    </tr>\n",
              "    <tr>\n",
              "      <th>5</th>\n",
              "      <td>2949</td>\n",
              "      <td>ham</td>\n",
              "      <td>Subject: ehronline web address change\\r\\nthis ...</td>\n",
              "      <td>0</td>\n",
              "    </tr>\n",
              "    <tr>\n",
              "      <th>6</th>\n",
              "      <td>2793</td>\n",
              "      <td>ham</td>\n",
              "      <td>Subject: spring savings certificate - take 30 ...</td>\n",
              "      <td>0</td>\n",
              "    </tr>\n",
              "    <tr>\n",
              "      <th>7</th>\n",
              "      <td>4185</td>\n",
              "      <td>spam</td>\n",
              "      <td>Subject: looking for medication ? we ` re the ...</td>\n",
              "      <td>1</td>\n",
              "    </tr>\n",
              "    <tr>\n",
              "      <th>8</th>\n",
              "      <td>2641</td>\n",
              "      <td>ham</td>\n",
              "      <td>Subject: noms / actual flow for 2 / 26\\r\\nwe a...</td>\n",
              "      <td>0</td>\n",
              "    </tr>\n",
              "    <tr>\n",
              "      <th>9</th>\n",
              "      <td>1870</td>\n",
              "      <td>ham</td>\n",
              "      <td>Subject: nominations for oct . 21 - 23 , 2000\\...</td>\n",
              "      <td>0</td>\n",
              "    </tr>\n",
              "  </tbody>\n",
              "</table>\n",
              "</div>\n",
              "      <button class=\"colab-df-convert\" onclick=\"convertToInteractive('df-4e7dfaa4-573d-4787-8ea6-14cf29dea547')\"\n",
              "              title=\"Convert this dataframe to an interactive table.\"\n",
              "              style=\"display:none;\">\n",
              "        \n",
              "  <svg xmlns=\"http://www.w3.org/2000/svg\" height=\"24px\"viewBox=\"0 0 24 24\"\n",
              "       width=\"24px\">\n",
              "    <path d=\"M0 0h24v24H0V0z\" fill=\"none\"/>\n",
              "    <path d=\"M18.56 5.44l.94 2.06.94-2.06 2.06-.94-2.06-.94-.94-2.06-.94 2.06-2.06.94zm-11 1L8.5 8.5l.94-2.06 2.06-.94-2.06-.94L8.5 2.5l-.94 2.06-2.06.94zm10 10l.94 2.06.94-2.06 2.06-.94-2.06-.94-.94-2.06-.94 2.06-2.06.94z\"/><path d=\"M17.41 7.96l-1.37-1.37c-.4-.4-.92-.59-1.43-.59-.52 0-1.04.2-1.43.59L10.3 9.45l-7.72 7.72c-.78.78-.78 2.05 0 2.83L4 21.41c.39.39.9.59 1.41.59.51 0 1.02-.2 1.41-.59l7.78-7.78 2.81-2.81c.8-.78.8-2.07 0-2.86zM5.41 20L4 18.59l7.72-7.72 1.47 1.35L5.41 20z\"/>\n",
              "  </svg>\n",
              "      </button>\n",
              "      \n",
              "  <style>\n",
              "    .colab-df-container {\n",
              "      display:flex;\n",
              "      flex-wrap:wrap;\n",
              "      gap: 12px;\n",
              "    }\n",
              "\n",
              "    .colab-df-convert {\n",
              "      background-color: #E8F0FE;\n",
              "      border: none;\n",
              "      border-radius: 50%;\n",
              "      cursor: pointer;\n",
              "      display: none;\n",
              "      fill: #1967D2;\n",
              "      height: 32px;\n",
              "      padding: 0 0 0 0;\n",
              "      width: 32px;\n",
              "    }\n",
              "\n",
              "    .colab-df-convert:hover {\n",
              "      background-color: #E2EBFA;\n",
              "      box-shadow: 0px 1px 2px rgba(60, 64, 67, 0.3), 0px 1px 3px 1px rgba(60, 64, 67, 0.15);\n",
              "      fill: #174EA6;\n",
              "    }\n",
              "\n",
              "    [theme=dark] .colab-df-convert {\n",
              "      background-color: #3B4455;\n",
              "      fill: #D2E3FC;\n",
              "    }\n",
              "\n",
              "    [theme=dark] .colab-df-convert:hover {\n",
              "      background-color: #434B5C;\n",
              "      box-shadow: 0px 1px 3px 1px rgba(0, 0, 0, 0.15);\n",
              "      filter: drop-shadow(0px 1px 2px rgba(0, 0, 0, 0.3));\n",
              "      fill: #FFFFFF;\n",
              "    }\n",
              "  </style>\n",
              "\n",
              "      <script>\n",
              "        const buttonEl =\n",
              "          document.querySelector('#df-4e7dfaa4-573d-4787-8ea6-14cf29dea547 button.colab-df-convert');\n",
              "        buttonEl.style.display =\n",
              "          google.colab.kernel.accessAllowed ? 'block' : 'none';\n",
              "\n",
              "        async function convertToInteractive(key) {\n",
              "          const element = document.querySelector('#df-4e7dfaa4-573d-4787-8ea6-14cf29dea547');\n",
              "          const dataTable =\n",
              "            await google.colab.kernel.invokeFunction('convertToInteractive',\n",
              "                                                     [key], {});\n",
              "          if (!dataTable) return;\n",
              "\n",
              "          const docLinkHtml = 'Like what you see? Visit the ' +\n",
              "            '<a target=\"_blank\" href=https://colab.research.google.com/notebooks/data_table.ipynb>data table notebook</a>'\n",
              "            + ' to learn more about interactive tables.';\n",
              "          element.innerHTML = '';\n",
              "          dataTable['output_type'] = 'display_data';\n",
              "          await google.colab.output.renderOutput(dataTable, element);\n",
              "          const docLink = document.createElement('div');\n",
              "          docLink.innerHTML = docLinkHtml;\n",
              "          element.appendChild(docLink);\n",
              "        }\n",
              "      </script>\n",
              "    </div>\n",
              "  </div>\n",
              "  "
            ]
          },
          "metadata": {},
          "execution_count": 83
        }
      ]
    },
    {
      "cell_type": "markdown",
      "source": [
        "**5) CHECK FOR NUMBER OF ROWS AND COLUMNS IN DATASET**"
      ],
      "metadata": {
        "id": "gRwwniFI3KvU"
      }
    },
    {
      "cell_type": "code",
      "source": [
        "dataset.shape"
      ],
      "metadata": {
        "colab": {
          "base_uri": "https://localhost:8080/"
        },
        "id": "MnrOT_PWthSL",
        "outputId": "4515f3a4-695d-441c-f881-6718758159dd"
      },
      "execution_count": 84,
      "outputs": [
        {
          "output_type": "execute_result",
          "data": {
            "text/plain": [
              "(5171, 4)"
            ]
          },
          "metadata": {},
          "execution_count": 84
        }
      ]
    },
    {
      "cell_type": "markdown",
      "source": [
        "This is a dataset with 5171 rows and 4 columns"
      ],
      "metadata": {
        "id": "ehrgLAflt39u"
      }
    },
    {
      "cell_type": "markdown",
      "source": [
        "**6) CHECK FOR COLUMNS IN DATASET**"
      ],
      "metadata": {
        "id": "rujkOcg25Zfh"
      }
    },
    {
      "cell_type": "code",
      "source": [
        "dataset.columns"
      ],
      "metadata": {
        "colab": {
          "base_uri": "https://localhost:8080/"
        },
        "id": "EadwTlZOuKUs",
        "outputId": "8a5b5429-4de1-4e17-9597-f255aa275bdd"
      },
      "execution_count": 85,
      "outputs": [
        {
          "output_type": "execute_result",
          "data": {
            "text/plain": [
              "Index(['Unnamed: 0', 'label', 'text', 'label_num'], dtype='object')"
            ]
          },
          "metadata": {},
          "execution_count": 85
        }
      ]
    },
    {
      "cell_type": "markdown",
      "source": [
        "**ATTRIBUTE INFORMATION**\n",
        "\n",
        "\n",
        "*   Unnamed: Unknown\n",
        "*   label: a categorical variable representing whether a mail is a spam or ham\n",
        "\n",
        "\n",
        "*   text: email messages\n",
        "*   label_num: a binary variable representing whether a mail is spam or ham\n",
        "\n",
        "\n",
        "    **  1 represents for spam\n",
        "\n",
        "    **  0 represents for ham\n",
        "\n",
        "\n",
        "\n",
        "\n",
        "\n",
        "\n",
        "\n",
        "\n",
        "\n"
      ],
      "metadata": {
        "id": "z-Z0WEqMvI6i"
      }
    },
    {
      "cell_type": "markdown",
      "source": [
        "**7) DROP THE UNKNOWN AND LABEL_NUM COLUMNS**"
      ],
      "metadata": {
        "id": "Rr81Py-bCrye"
      }
    },
    {
      "cell_type": "code",
      "source": [
        "dataset.drop(['Unnamed: 0', 'label_num'], inplace=True, axis=1)"
      ],
      "metadata": {
        "id": "9w7ysvYRCqgp"
      },
      "execution_count": 86,
      "outputs": []
    },
    {
      "cell_type": "code",
      "source": [
        "#Check if the columns have been dropped\n",
        "dataset.head(10)"
      ],
      "metadata": {
        "id": "QWlK_AbgFhT_",
        "colab": {
          "base_uri": "https://localhost:8080/",
          "height": 363
        },
        "outputId": "afc8d6ef-1f5b-4ffc-c30a-96225f1e3ec9"
      },
      "execution_count": 87,
      "outputs": [
        {
          "output_type": "execute_result",
          "data": {
            "text/plain": [
              "  label                                               text\n",
              "0   ham  Subject: enron methanol ; meter # : 988291\\r\\n...\n",
              "1   ham  Subject: hpl nom for january 9 , 2001\\r\\n( see...\n",
              "2   ham  Subject: neon retreat\\r\\nho ho ho , we ' re ar...\n",
              "3  spam  Subject: photoshop , windows , office . cheap ...\n",
              "4   ham  Subject: re : indian springs\\r\\nthis deal is t...\n",
              "5   ham  Subject: ehronline web address change\\r\\nthis ...\n",
              "6   ham  Subject: spring savings certificate - take 30 ...\n",
              "7  spam  Subject: looking for medication ? we ` re the ...\n",
              "8   ham  Subject: noms / actual flow for 2 / 26\\r\\nwe a...\n",
              "9   ham  Subject: nominations for oct . 21 - 23 , 2000\\..."
            ],
            "text/html": [
              "\n",
              "  <div id=\"df-041d1b37-6c9b-48f9-a9d1-7749d489bb3c\">\n",
              "    <div class=\"colab-df-container\">\n",
              "      <div>\n",
              "<style scoped>\n",
              "    .dataframe tbody tr th:only-of-type {\n",
              "        vertical-align: middle;\n",
              "    }\n",
              "\n",
              "    .dataframe tbody tr th {\n",
              "        vertical-align: top;\n",
              "    }\n",
              "\n",
              "    .dataframe thead th {\n",
              "        text-align: right;\n",
              "    }\n",
              "</style>\n",
              "<table border=\"1\" class=\"dataframe\">\n",
              "  <thead>\n",
              "    <tr style=\"text-align: right;\">\n",
              "      <th></th>\n",
              "      <th>label</th>\n",
              "      <th>text</th>\n",
              "    </tr>\n",
              "  </thead>\n",
              "  <tbody>\n",
              "    <tr>\n",
              "      <th>0</th>\n",
              "      <td>ham</td>\n",
              "      <td>Subject: enron methanol ; meter # : 988291\\r\\n...</td>\n",
              "    </tr>\n",
              "    <tr>\n",
              "      <th>1</th>\n",
              "      <td>ham</td>\n",
              "      <td>Subject: hpl nom for january 9 , 2001\\r\\n( see...</td>\n",
              "    </tr>\n",
              "    <tr>\n",
              "      <th>2</th>\n",
              "      <td>ham</td>\n",
              "      <td>Subject: neon retreat\\r\\nho ho ho , we ' re ar...</td>\n",
              "    </tr>\n",
              "    <tr>\n",
              "      <th>3</th>\n",
              "      <td>spam</td>\n",
              "      <td>Subject: photoshop , windows , office . cheap ...</td>\n",
              "    </tr>\n",
              "    <tr>\n",
              "      <th>4</th>\n",
              "      <td>ham</td>\n",
              "      <td>Subject: re : indian springs\\r\\nthis deal is t...</td>\n",
              "    </tr>\n",
              "    <tr>\n",
              "      <th>5</th>\n",
              "      <td>ham</td>\n",
              "      <td>Subject: ehronline web address change\\r\\nthis ...</td>\n",
              "    </tr>\n",
              "    <tr>\n",
              "      <th>6</th>\n",
              "      <td>ham</td>\n",
              "      <td>Subject: spring savings certificate - take 30 ...</td>\n",
              "    </tr>\n",
              "    <tr>\n",
              "      <th>7</th>\n",
              "      <td>spam</td>\n",
              "      <td>Subject: looking for medication ? we ` re the ...</td>\n",
              "    </tr>\n",
              "    <tr>\n",
              "      <th>8</th>\n",
              "      <td>ham</td>\n",
              "      <td>Subject: noms / actual flow for 2 / 26\\r\\nwe a...</td>\n",
              "    </tr>\n",
              "    <tr>\n",
              "      <th>9</th>\n",
              "      <td>ham</td>\n",
              "      <td>Subject: nominations for oct . 21 - 23 , 2000\\...</td>\n",
              "    </tr>\n",
              "  </tbody>\n",
              "</table>\n",
              "</div>\n",
              "      <button class=\"colab-df-convert\" onclick=\"convertToInteractive('df-041d1b37-6c9b-48f9-a9d1-7749d489bb3c')\"\n",
              "              title=\"Convert this dataframe to an interactive table.\"\n",
              "              style=\"display:none;\">\n",
              "        \n",
              "  <svg xmlns=\"http://www.w3.org/2000/svg\" height=\"24px\"viewBox=\"0 0 24 24\"\n",
              "       width=\"24px\">\n",
              "    <path d=\"M0 0h24v24H0V0z\" fill=\"none\"/>\n",
              "    <path d=\"M18.56 5.44l.94 2.06.94-2.06 2.06-.94-2.06-.94-.94-2.06-.94 2.06-2.06.94zm-11 1L8.5 8.5l.94-2.06 2.06-.94-2.06-.94L8.5 2.5l-.94 2.06-2.06.94zm10 10l.94 2.06.94-2.06 2.06-.94-2.06-.94-.94-2.06-.94 2.06-2.06.94z\"/><path d=\"M17.41 7.96l-1.37-1.37c-.4-.4-.92-.59-1.43-.59-.52 0-1.04.2-1.43.59L10.3 9.45l-7.72 7.72c-.78.78-.78 2.05 0 2.83L4 21.41c.39.39.9.59 1.41.59.51 0 1.02-.2 1.41-.59l7.78-7.78 2.81-2.81c.8-.78.8-2.07 0-2.86zM5.41 20L4 18.59l7.72-7.72 1.47 1.35L5.41 20z\"/>\n",
              "  </svg>\n",
              "      </button>\n",
              "      \n",
              "  <style>\n",
              "    .colab-df-container {\n",
              "      display:flex;\n",
              "      flex-wrap:wrap;\n",
              "      gap: 12px;\n",
              "    }\n",
              "\n",
              "    .colab-df-convert {\n",
              "      background-color: #E8F0FE;\n",
              "      border: none;\n",
              "      border-radius: 50%;\n",
              "      cursor: pointer;\n",
              "      display: none;\n",
              "      fill: #1967D2;\n",
              "      height: 32px;\n",
              "      padding: 0 0 0 0;\n",
              "      width: 32px;\n",
              "    }\n",
              "\n",
              "    .colab-df-convert:hover {\n",
              "      background-color: #E2EBFA;\n",
              "      box-shadow: 0px 1px 2px rgba(60, 64, 67, 0.3), 0px 1px 3px 1px rgba(60, 64, 67, 0.15);\n",
              "      fill: #174EA6;\n",
              "    }\n",
              "\n",
              "    [theme=dark] .colab-df-convert {\n",
              "      background-color: #3B4455;\n",
              "      fill: #D2E3FC;\n",
              "    }\n",
              "\n",
              "    [theme=dark] .colab-df-convert:hover {\n",
              "      background-color: #434B5C;\n",
              "      box-shadow: 0px 1px 3px 1px rgba(0, 0, 0, 0.15);\n",
              "      filter: drop-shadow(0px 1px 2px rgba(0, 0, 0, 0.3));\n",
              "      fill: #FFFFFF;\n",
              "    }\n",
              "  </style>\n",
              "\n",
              "      <script>\n",
              "        const buttonEl =\n",
              "          document.querySelector('#df-041d1b37-6c9b-48f9-a9d1-7749d489bb3c button.colab-df-convert');\n",
              "        buttonEl.style.display =\n",
              "          google.colab.kernel.accessAllowed ? 'block' : 'none';\n",
              "\n",
              "        async function convertToInteractive(key) {\n",
              "          const element = document.querySelector('#df-041d1b37-6c9b-48f9-a9d1-7749d489bb3c');\n",
              "          const dataTable =\n",
              "            await google.colab.kernel.invokeFunction('convertToInteractive',\n",
              "                                                     [key], {});\n",
              "          if (!dataTable) return;\n",
              "\n",
              "          const docLinkHtml = 'Like what you see? Visit the ' +\n",
              "            '<a target=\"_blank\" href=https://colab.research.google.com/notebooks/data_table.ipynb>data table notebook</a>'\n",
              "            + ' to learn more about interactive tables.';\n",
              "          element.innerHTML = '';\n",
              "          dataTable['output_type'] = 'display_data';\n",
              "          await google.colab.output.renderOutput(dataTable, element);\n",
              "          const docLink = document.createElement('div');\n",
              "          docLink.innerHTML = docLinkHtml;\n",
              "          element.appendChild(docLink);\n",
              "        }\n",
              "      </script>\n",
              "    </div>\n",
              "  </div>\n",
              "  "
            ]
          },
          "metadata": {},
          "execution_count": 87
        }
      ]
    },
    {
      "cell_type": "markdown",
      "source": [
        "**8) CHECK FOR DUPLICATES AND REMOVE THEM**"
      ],
      "metadata": {
        "id": "pt07BDACHFtc"
      }
    },
    {
      "cell_type": "code",
      "source": [
        "dataset.drop_duplicates(inplace=True)"
      ],
      "metadata": {
        "id": "_0kzZexwHNQc"
      },
      "execution_count": 88,
      "outputs": []
    },
    {
      "cell_type": "code",
      "source": [
        "#Check if duplicates are being dropped\n",
        "dataset.shape"
      ],
      "metadata": {
        "colab": {
          "base_uri": "https://localhost:8080/"
        },
        "id": "_n_flpULHasq",
        "outputId": "d285e352-e6db-4bd3-d5d3-23b738b097c1"
      },
      "execution_count": 89,
      "outputs": [
        {
          "output_type": "execute_result",
          "data": {
            "text/plain": [
              "(4993, 2)"
            ]
          },
          "metadata": {},
          "execution_count": 89
        }
      ]
    },
    {
      "cell_type": "markdown",
      "source": [
        "The dataset now has 4993 rows and 2 columns"
      ],
      "metadata": {
        "id": "SjJu3XBeyjtd"
      }
    },
    {
      "cell_type": "markdown",
      "source": [
        "**9) CHECK FOR NULL VALUES IN DATASET**"
      ],
      "metadata": {
        "id": "nCxkb3g8Cx4m"
      }
    },
    {
      "cell_type": "code",
      "source": [
        "dataset.info()"
      ],
      "metadata": {
        "id": "5tXwsc6_uHcs",
        "colab": {
          "base_uri": "https://localhost:8080/"
        },
        "outputId": "6bd27611-217d-47c8-a94a-96fea9736e2d"
      },
      "execution_count": 90,
      "outputs": [
        {
          "output_type": "stream",
          "name": "stdout",
          "text": [
            "<class 'pandas.core.frame.DataFrame'>\n",
            "Int64Index: 4993 entries, 0 to 5170\n",
            "Data columns (total 2 columns):\n",
            " #   Column  Non-Null Count  Dtype \n",
            "---  ------  --------------  ----- \n",
            " 0   label   4993 non-null   object\n",
            " 1   text    4993 non-null   object\n",
            "dtypes: object(2)\n",
            "memory usage: 117.0+ KB\n"
          ]
        }
      ]
    },
    {
      "cell_type": "code",
      "source": [
        "dataset.isnull().sum()"
      ],
      "metadata": {
        "id": "a5WaoIT403th",
        "colab": {
          "base_uri": "https://localhost:8080/"
        },
        "outputId": "998056ce-38ae-44c0-f797-3e2292e95d9c"
      },
      "execution_count": 91,
      "outputs": [
        {
          "output_type": "execute_result",
          "data": {
            "text/plain": [
              "label    0\n",
              "text     0\n",
              "dtype: int64"
            ]
          },
          "metadata": {},
          "execution_count": 91
        }
      ]
    },
    {
      "cell_type": "markdown",
      "source": [
        "Data contains no null values"
      ],
      "metadata": {
        "id": "Rz0i6_uM1EAh"
      }
    },
    {
      "cell_type": "code",
      "source": [
        "dataset['label'].unique()"
      ],
      "metadata": {
        "id": "673RGh1_1JLa",
        "colab": {
          "base_uri": "https://localhost:8080/"
        },
        "outputId": "4e9fc322-cd74-4671-ae3b-68c4dc74ae86"
      },
      "execution_count": 92,
      "outputs": [
        {
          "output_type": "execute_result",
          "data": {
            "text/plain": [
              "array(['ham', 'spam'], dtype=object)"
            ]
          },
          "metadata": {},
          "execution_count": 92
        }
      ]
    },
    {
      "cell_type": "code",
      "source": [
        "dataset['label'].value_counts()"
      ],
      "metadata": {
        "id": "KvVkEo9L6lAE",
        "colab": {
          "base_uri": "https://localhost:8080/"
        },
        "outputId": "c5b44ad6-0e0b-4e53-8421-0d54cdfbe318"
      },
      "execution_count": 93,
      "outputs": [
        {
          "output_type": "execute_result",
          "data": {
            "text/plain": [
              "ham     3531\n",
              "spam    1462\n",
              "Name: label, dtype: int64"
            ]
          },
          "metadata": {},
          "execution_count": 93
        }
      ]
    },
    {
      "cell_type": "markdown",
      "source": [
        "The dataset contains 3531 ham mails and 1462 spam mails"
      ],
      "metadata": {
        "id": "R4E6Rh0IyDIC"
      }
    },
    {
      "cell_type": "markdown",
      "source": [
        "**10) DOWNLOADING THE STOPWORD PACKAGE**"
      ],
      "metadata": {
        "id": "ZVSV1c_gYZIy"
      }
    },
    {
      "cell_type": "code",
      "source": [
        "nltk.download('stopwords')"
      ],
      "metadata": {
        "colab": {
          "base_uri": "https://localhost:8080/"
        },
        "id": "Ez3d30P-MjP3",
        "outputId": "9412dea4-c169-43f0-d5dd-c21dd7731901"
      },
      "execution_count": 94,
      "outputs": [
        {
          "output_type": "stream",
          "name": "stderr",
          "text": [
            "[nltk_data] Downloading package stopwords to /root/nltk_data...\n",
            "[nltk_data]   Package stopwords is already up-to-date!\n"
          ]
        },
        {
          "output_type": "execute_result",
          "data": {
            "text/plain": [
              "True"
            ]
          },
          "metadata": {},
          "execution_count": 94
        }
      ]
    },
    {
      "cell_type": "code",
      "source": [
        "def process_text(text):\n",
        "  no_punctuation = [char for char in text if char not in string.punctuation]\n",
        "  no_punctuation = ''.join(no_punctuation)\n",
        "\n",
        "  clean_words = [words for words in no_punctuation.split() if words.lower() not in stopwords.words('english')]\n",
        "\n",
        "  return clean_words"
      ],
      "metadata": {
        "id": "Jck5hVAoYstA"
      },
      "execution_count": 95,
      "outputs": []
    },
    {
      "cell_type": "code",
      "source": [
        "dataset['text'].head(10).apply(process_text)"
      ],
      "metadata": {
        "colab": {
          "base_uri": "https://localhost:8080/"
        },
        "id": "utND-OFxe-3r",
        "outputId": "ca95c27f-d252-44c3-d13b-f50dd804ea9b"
      },
      "execution_count": 96,
      "outputs": [
        {
          "output_type": "execute_result",
          "data": {
            "text/plain": [
              "0    [Subject, enron, methanol, meter, 988291, foll...\n",
              "1    [Subject, hpl, nom, january, 9, 2001, see, att...\n",
              "2    [Subject, neon, retreat, ho, ho, ho, around, w...\n",
              "3    [Subject, photoshop, windows, office, cheap, m...\n",
              "4    [Subject, indian, springs, deal, book, teco, p...\n",
              "5    [Subject, ehronline, web, address, change, mes...\n",
              "6    [Subject, spring, savings, certificate, take, ...\n",
              "7    [Subject, looking, medication, best, source, d...\n",
              "8    [Subject, noms, actual, flow, 2, 26, agree, fo...\n",
              "9    [Subject, nominations, oct, 21, 23, 2000, see,...\n",
              "Name: text, dtype: object"
            ]
          },
          "metadata": {},
          "execution_count": 96
        }
      ]
    },
    {
      "cell_type": "markdown",
      "source": [
        "**11) CONVERT A COLLECTION OF TEXT TO A MATRIX OF TOKENS**"
      ],
      "metadata": {
        "id": "jsKTKcbjzUwp"
      }
    },
    {
      "cell_type": "code",
      "source": [
        "from sklearn.feature_extraction.text import CountVectorizer\n",
        "messages = CountVectorizer(analyzer=process_text).fit_transform(dataset['text'])"
      ],
      "metadata": {
        "id": "-aGg_MlNzjgu"
      },
      "execution_count": 97,
      "outputs": []
    },
    {
      "cell_type": "code",
      "source": [
        "messages.shape"
      ],
      "metadata": {
        "colab": {
          "base_uri": "https://localhost:8080/"
        },
        "id": "3wsJgZEW3BSF",
        "outputId": "a0ba346c-5c1d-4fbc-af3e-23b63e61ae90"
      },
      "execution_count": 99,
      "outputs": [
        {
          "output_type": "execute_result",
          "data": {
            "text/plain": [
              "(4993, 50381)"
            ]
          },
          "metadata": {},
          "execution_count": 99
        }
      ]
    },
    {
      "cell_type": "markdown",
      "source": [
        "**12) SPLIT THE DATA INTO 80% TRAINING AND 20% TESTING**"
      ],
      "metadata": {
        "id": "nKBTTL0M1sTN"
      }
    },
    {
      "cell_type": "code",
      "source": [
        "from sklearn.model_selection import train_test_split\n",
        "X_train, X_test, y_train, y_test =train_test_split(messages, dataset['label'], test_size = 0.20, random_state = 0)"
      ],
      "metadata": {
        "id": "NfahD7Sb16PF"
      },
      "execution_count": 102,
      "outputs": []
    },
    {
      "cell_type": "markdown",
      "source": [
        "**13) CREATE AND TRAIN THE NAIVE BAYES CLASSIFIER**"
      ],
      "metadata": {
        "id": "QHiOrxek9KSp"
      }
    },
    {
      "cell_type": "code",
      "source": [
        "from sklearn.naive_bayes import MultinomialNB\n",
        "classifier = MultinomialNB().fit(X_train, y_train)"
      ],
      "metadata": {
        "id": "7KE37mUi9Tsf"
      },
      "execution_count": 103,
      "outputs": []
    },
    {
      "cell_type": "markdown",
      "source": [
        "**14) PRINT PREDICTIONS AND ACTUAL VALUES FOR TRAINING DATASET**"
      ],
      "metadata": {
        "id": "FnmkYXXv-BoZ"
      }
    },
    {
      "cell_type": "code",
      "source": [
        "#print predictions\n",
        "print(classifier.predict(X_train))\n",
        "#print actual values\n",
        "print(y_train.values)"
      ],
      "metadata": {
        "colab": {
          "base_uri": "https://localhost:8080/"
        },
        "id": "Kj45tf-w-JBW",
        "outputId": "142ce5ee-066d-4768-cd22-9d063b9da2f5"
      },
      "execution_count": 104,
      "outputs": [
        {
          "output_type": "stream",
          "name": "stdout",
          "text": [
            "['spam' 'ham' 'spam' ... 'ham' 'ham' 'spam']\n",
            "['spam' 'ham' 'spam' ... 'ham' 'ham' 'spam']\n"
          ]
        }
      ]
    },
    {
      "cell_type": "markdown",
      "source": [
        "**15) EVALUATE THE MODEL ON THE TRAINING DATASET**"
      ],
      "metadata": {
        "id": "eSsVl9RfVGoY"
      }
    },
    {
      "cell_type": "code",
      "source": [
        "from sklearn.metrics import confusion_matrix, classification_report, accuracy_score\n",
        "prediction = classifier.predict(X_train)\n",
        "class_repo = classification_report(y_train, prediction)\n",
        "confus_mat = confusion_matrix(y_train, prediction)\n",
        "acc_sc = accuracy_score(y_train, prediction)\n",
        "print(\"----------------------\")\n",
        "print(\"CLASSIFICATION REPORT: \\n---------------------- \\n\\n\", class_repo)\n",
        "print()\n",
        "print(\"----------------------\")\n",
        "print(\"CONFUSION MATRIX: \\n---------------------- \\n\\n\", confus_mat)\n",
        "print()\n",
        "print(\"----------------------\")\n",
        "print(\"ACCURACY SCORE: \\n---------------------- \\n\\n\", acc_sc)"
      ],
      "metadata": {
        "id": "ZiufngG2K3G0",
        "colab": {
          "base_uri": "https://localhost:8080/"
        },
        "outputId": "04be1315-678e-45cb-8baf-c41dccaf4798"
      },
      "execution_count": 105,
      "outputs": [
        {
          "output_type": "stream",
          "name": "stdout",
          "text": [
            "----------------------\n",
            "CLASSIFICATION REPORT: \n",
            "---------------------- \n",
            "\n",
            "               precision    recall  f1-score   support\n",
            "\n",
            "         ham       1.00      0.99      0.99      2809\n",
            "        spam       0.98      0.99      0.99      1185\n",
            "\n",
            "    accuracy                           0.99      3994\n",
            "   macro avg       0.99      0.99      0.99      3994\n",
            "weighted avg       0.99      0.99      0.99      3994\n",
            "\n",
            "\n",
            "----------------------\n",
            "CONFUSION MATRIX: \n",
            "---------------------- \n",
            "\n",
            " [[2787   22]\n",
            " [  13 1172]]\n",
            "\n",
            "----------------------\n",
            "ACCURACY SCORE: \n",
            "---------------------- \n",
            "\n",
            " 0.9912368552829244\n"
          ]
        }
      ]
    },
    {
      "cell_type": "markdown",
      "source": [
        "**TRAIN ACCURACY LEVEL: 99% which indicates a high precision value**"
      ],
      "metadata": {
        "id": "79aC1KzMnlYh"
      }
    },
    {
      "cell_type": "markdown",
      "source": [
        "**16) PRINT PREDICTIONS AND ACTUAL VALUES FOR TEST DATASET**"
      ],
      "metadata": {
        "id": "SM31QLanV_jW"
      }
    },
    {
      "cell_type": "code",
      "source": [
        "#print predictions\n",
        "print(classifier.predict(X_test))\n",
        "#print actual values\n",
        "print(y_test.values)"
      ],
      "metadata": {
        "id": "7nNKZ4EtWH8e",
        "colab": {
          "base_uri": "https://localhost:8080/"
        },
        "outputId": "48a0e194-12df-4d1d-90f1-38dc66619269"
      },
      "execution_count": 106,
      "outputs": [
        {
          "output_type": "stream",
          "name": "stdout",
          "text": [
            "['ham' 'ham' 'ham' 'ham' 'ham' 'ham' 'spam' 'ham' 'ham' 'ham' 'ham' 'ham'\n",
            " 'spam' 'ham' 'ham' 'ham' 'ham' 'spam' 'ham' 'ham' 'spam' 'ham' 'ham'\n",
            " 'spam' 'spam' 'ham' 'ham' 'ham' 'ham' 'spam' 'ham' 'spam' 'spam' 'spam'\n",
            " 'ham' 'spam' 'spam' 'ham' 'ham' 'ham' 'ham' 'spam' 'ham' 'spam' 'ham'\n",
            " 'spam' 'ham' 'ham' 'ham' 'spam' 'spam' 'ham' 'ham' 'ham' 'ham' 'ham'\n",
            " 'spam' 'ham' 'ham' 'spam' 'ham' 'ham' 'spam' 'ham' 'ham' 'ham' 'spam'\n",
            " 'spam' 'ham' 'ham' 'spam' 'spam' 'spam' 'ham' 'ham' 'ham' 'ham' 'ham'\n",
            " 'ham' 'spam' 'ham' 'ham' 'ham' 'ham' 'spam' 'ham' 'ham' 'ham' 'spam'\n",
            " 'ham' 'ham' 'ham' 'ham' 'ham' 'spam' 'ham' 'ham' 'spam' 'ham' 'ham' 'ham'\n",
            " 'spam' 'spam' 'ham' 'ham' 'ham' 'ham' 'ham' 'ham' 'spam' 'ham' 'ham'\n",
            " 'ham' 'spam' 'ham' 'ham' 'spam' 'ham' 'ham' 'ham' 'ham' 'ham' 'ham' 'ham'\n",
            " 'spam' 'ham' 'ham' 'spam' 'spam' 'ham' 'ham' 'spam' 'spam' 'ham' 'ham'\n",
            " 'spam' 'ham' 'ham' 'spam' 'ham' 'spam' 'spam' 'ham' 'spam' 'ham' 'spam'\n",
            " 'ham' 'ham' 'ham' 'ham' 'spam' 'ham' 'spam' 'ham' 'spam' 'spam' 'spam'\n",
            " 'ham' 'ham' 'spam' 'ham' 'ham' 'spam' 'ham' 'ham' 'ham' 'ham' 'ham' 'ham'\n",
            " 'ham' 'ham' 'ham' 'ham' 'ham' 'ham' 'ham' 'ham' 'spam' 'ham' 'spam' 'ham'\n",
            " 'spam' 'ham' 'ham' 'spam' 'ham' 'ham' 'ham' 'ham' 'ham' 'ham' 'ham' 'ham'\n",
            " 'ham' 'ham' 'ham' 'ham' 'spam' 'ham' 'spam' 'ham' 'ham' 'ham' 'spam'\n",
            " 'ham' 'ham' 'ham' 'ham' 'ham' 'ham' 'ham' 'spam' 'ham' 'ham' 'ham' 'ham'\n",
            " 'ham' 'ham' 'ham' 'ham' 'ham' 'ham' 'spam' 'spam' 'ham' 'spam' 'ham'\n",
            " 'spam' 'spam' 'ham' 'ham' 'ham' 'ham' 'ham' 'ham' 'ham' 'ham' 'ham' 'ham'\n",
            " 'spam' 'ham' 'ham' 'spam' 'ham' 'ham' 'spam' 'ham' 'ham' 'spam' 'ham'\n",
            " 'ham' 'ham' 'ham' 'ham' 'spam' 'ham' 'ham' 'ham' 'ham' 'spam' 'ham' 'ham'\n",
            " 'ham' 'spam' 'spam' 'ham' 'spam' 'spam' 'ham' 'spam' 'ham' 'ham' 'ham'\n",
            " 'ham' 'spam' 'ham' 'ham' 'ham' 'spam' 'ham' 'spam' 'ham' 'ham' 'ham'\n",
            " 'ham' 'ham' 'ham' 'ham' 'spam' 'ham' 'ham' 'ham' 'ham' 'ham' 'ham' 'ham'\n",
            " 'ham' 'ham' 'ham' 'ham' 'ham' 'ham' 'spam' 'ham' 'ham' 'ham' 'ham' 'ham'\n",
            " 'ham' 'spam' 'ham' 'ham' 'ham' 'ham' 'spam' 'ham' 'ham' 'ham' 'spam'\n",
            " 'ham' 'ham' 'ham' 'ham' 'ham' 'spam' 'spam' 'ham' 'ham' 'ham' 'ham' 'ham'\n",
            " 'spam' 'ham' 'ham' 'spam' 'ham' 'ham' 'ham' 'ham' 'ham' 'ham' 'spam'\n",
            " 'ham' 'ham' 'ham' 'ham' 'ham' 'ham' 'ham' 'ham' 'ham' 'ham' 'ham' 'ham'\n",
            " 'ham' 'ham' 'ham' 'ham' 'spam' 'ham' 'ham' 'ham' 'ham' 'ham' 'ham' 'spam'\n",
            " 'ham' 'ham' 'ham' 'spam' 'ham' 'ham' 'ham' 'ham' 'ham' 'spam' 'spam'\n",
            " 'ham' 'ham' 'spam' 'spam' 'spam' 'ham' 'spam' 'ham' 'ham' 'ham' 'ham'\n",
            " 'ham' 'ham' 'ham' 'spam' 'ham' 'spam' 'spam' 'ham' 'spam' 'spam' 'spam'\n",
            " 'ham' 'ham' 'ham' 'spam' 'ham' 'spam' 'ham' 'ham' 'spam' 'ham' 'ham'\n",
            " 'spam' 'ham' 'ham' 'ham' 'ham' 'ham' 'ham' 'ham' 'ham' 'ham' 'ham' 'spam'\n",
            " 'ham' 'ham' 'spam' 'ham' 'ham' 'ham' 'ham' 'ham' 'ham' 'spam' 'spam'\n",
            " 'ham' 'ham' 'ham' 'ham' 'ham' 'spam' 'ham' 'ham' 'spam' 'ham' 'spam'\n",
            " 'ham' 'ham' 'spam' 'ham' 'ham' 'spam' 'spam' 'spam' 'ham' 'ham' 'ham'\n",
            " 'ham' 'spam' 'ham' 'ham' 'ham' 'ham' 'ham' 'ham' 'ham' 'ham' 'ham' 'spam'\n",
            " 'spam' 'ham' 'spam' 'ham' 'ham' 'ham' 'ham' 'ham' 'ham' 'ham' 'ham' 'ham'\n",
            " 'ham' 'ham' 'ham' 'ham' 'ham' 'ham' 'ham' 'ham' 'ham' 'ham' 'spam' 'ham'\n",
            " 'ham' 'ham' 'spam' 'spam' 'ham' 'spam' 'ham' 'ham' 'ham' 'ham' 'ham'\n",
            " 'ham' 'ham' 'ham' 'ham' 'ham' 'spam' 'ham' 'spam' 'ham' 'spam' 'ham'\n",
            " 'spam' 'ham' 'ham' 'ham' 'ham' 'spam' 'ham' 'ham' 'ham' 'ham' 'ham' 'ham'\n",
            " 'ham' 'ham' 'spam' 'ham' 'ham' 'ham' 'spam' 'ham' 'spam' 'ham' 'ham'\n",
            " 'ham' 'ham' 'ham' 'ham' 'ham' 'spam' 'spam' 'spam' 'ham' 'ham' 'ham'\n",
            " 'ham' 'ham' 'ham' 'ham' 'ham' 'spam' 'spam' 'ham' 'ham' 'spam' 'spam'\n",
            " 'spam' 'ham' 'ham' 'ham' 'spam' 'ham' 'ham' 'spam' 'ham' 'ham' 'ham'\n",
            " 'ham' 'ham' 'ham' 'spam' 'ham' 'ham' 'ham' 'spam' 'ham' 'ham' 'ham'\n",
            " 'spam' 'ham' 'ham' 'ham' 'ham' 'spam' 'ham' 'ham' 'ham' 'spam' 'ham'\n",
            " 'ham' 'ham' 'spam' 'ham' 'spam' 'ham' 'ham' 'spam' 'ham' 'spam' 'ham'\n",
            " 'ham' 'ham' 'ham' 'ham' 'ham' 'spam' 'ham' 'ham' 'spam' 'ham' 'spam'\n",
            " 'spam' 'spam' 'ham' 'ham' 'ham' 'ham' 'ham' 'spam' 'spam' 'ham' 'ham'\n",
            " 'ham' 'ham' 'ham' 'ham' 'ham' 'ham' 'spam' 'spam' 'ham' 'ham' 'spam'\n",
            " 'ham' 'ham' 'ham' 'ham' 'spam' 'ham' 'ham' 'ham' 'ham' 'ham' 'spam' 'ham'\n",
            " 'spam' 'spam' 'ham' 'ham' 'ham' 'ham' 'spam' 'spam' 'ham' 'ham' 'spam'\n",
            " 'ham' 'spam' 'ham' 'ham' 'ham' 'ham' 'ham' 'ham' 'ham' 'ham' 'ham' 'ham'\n",
            " 'spam' 'ham' 'spam' 'ham' 'spam' 'spam' 'ham' 'ham' 'ham' 'ham' 'ham'\n",
            " 'ham' 'ham' 'ham' 'ham' 'spam' 'ham' 'ham' 'ham' 'spam' 'spam' 'spam'\n",
            " 'ham' 'spam' 'ham' 'ham' 'ham' 'spam' 'ham' 'ham' 'ham' 'spam' 'ham'\n",
            " 'spam' 'spam' 'spam' 'ham' 'ham' 'ham' 'ham' 'spam' 'spam' 'ham' 'spam'\n",
            " 'ham' 'ham' 'ham' 'ham' 'ham' 'spam' 'spam' 'spam' 'spam' 'ham' 'ham'\n",
            " 'ham' 'ham' 'ham' 'ham' 'ham' 'ham' 'ham' 'ham' 'ham' 'ham' 'spam' 'ham'\n",
            " 'ham' 'ham' 'ham' 'ham' 'ham' 'spam' 'ham' 'ham' 'spam' 'ham' 'spam'\n",
            " 'ham' 'ham' 'ham' 'ham' 'spam' 'ham' 'ham' 'ham' 'ham' 'spam' 'ham'\n",
            " 'spam' 'ham' 'spam' 'ham' 'ham' 'ham' 'spam' 'ham' 'spam' 'ham' 'ham'\n",
            " 'ham' 'ham' 'ham' 'spam' 'ham' 'spam' 'ham' 'ham' 'spam' 'ham' 'spam'\n",
            " 'ham' 'ham' 'ham' 'ham' 'ham' 'ham' 'ham' 'ham' 'spam' 'spam' 'spam'\n",
            " 'ham' 'ham' 'spam' 'ham' 'ham' 'ham' 'spam' 'ham' 'ham' 'spam' 'ham'\n",
            " 'ham' 'ham' 'ham' 'ham' 'ham' 'spam' 'spam' 'ham' 'ham' 'ham' 'ham' 'ham'\n",
            " 'ham' 'ham' 'ham' 'ham' 'spam' 'ham' 'ham' 'ham' 'ham' 'spam' 'ham'\n",
            " 'spam' 'ham' 'spam' 'ham' 'spam' 'spam' 'spam' 'ham' 'ham' 'ham' 'ham'\n",
            " 'ham' 'ham' 'spam' 'spam' 'spam' 'ham' 'ham' 'ham' 'ham' 'ham' 'ham'\n",
            " 'spam' 'ham' 'ham' 'spam' 'spam' 'spam' 'ham' 'ham' 'ham' 'spam' 'ham'\n",
            " 'ham' 'ham' 'spam' 'ham' 'ham' 'spam' 'spam' 'spam' 'spam' 'spam' 'ham'\n",
            " 'ham' 'ham' 'ham' 'ham' 'ham' 'ham' 'ham' 'ham' 'ham' 'ham' 'spam' 'ham'\n",
            " 'spam' 'spam' 'spam' 'ham' 'spam' 'ham' 'ham' 'spam' 'ham' 'ham' 'ham'\n",
            " 'spam' 'ham' 'spam' 'ham' 'spam' 'ham' 'ham' 'spam' 'spam' 'ham' 'spam'\n",
            " 'ham' 'ham' 'ham' 'ham' 'spam' 'ham' 'ham' 'ham' 'ham' 'ham' 'ham' 'ham'\n",
            " 'ham' 'ham' 'spam' 'ham' 'ham' 'ham' 'ham' 'ham' 'ham' 'spam' 'ham'\n",
            " 'spam' 'ham' 'spam' 'ham' 'ham' 'ham' 'spam' 'spam' 'spam' 'ham' 'spam'\n",
            " 'spam' 'spam' 'ham' 'ham' 'spam' 'spam' 'ham' 'ham' 'ham' 'ham' 'ham'\n",
            " 'ham' 'ham' 'spam' 'spam' 'ham' 'ham' 'ham' 'ham' 'spam' 'ham' 'spam'\n",
            " 'ham' 'spam' 'ham' 'spam' 'ham' 'ham' 'ham' 'ham' 'spam' 'ham' 'ham'\n",
            " 'ham' 'ham' 'ham' 'spam' 'ham' 'spam' 'ham' 'ham' 'spam' 'ham' 'ham'\n",
            " 'ham' 'ham' 'ham' 'spam' 'spam' 'ham' 'ham' 'ham' 'ham' 'spam' 'ham'\n",
            " 'spam' 'ham' 'spam' 'spam' 'spam' 'ham']\n",
            "['ham' 'ham' 'ham' 'ham' 'ham' 'ham' 'spam' 'ham' 'ham' 'ham' 'ham' 'ham'\n",
            " 'spam' 'ham' 'ham' 'ham' 'ham' 'spam' 'ham' 'ham' 'spam' 'ham' 'ham'\n",
            " 'spam' 'spam' 'ham' 'ham' 'ham' 'ham' 'spam' 'ham' 'ham' 'spam' 'spam'\n",
            " 'ham' 'spam' 'spam' 'ham' 'ham' 'ham' 'ham' 'spam' 'ham' 'spam' 'ham'\n",
            " 'spam' 'ham' 'ham' 'ham' 'spam' 'spam' 'ham' 'ham' 'ham' 'ham' 'ham'\n",
            " 'spam' 'ham' 'ham' 'spam' 'ham' 'ham' 'spam' 'ham' 'ham' 'ham' 'spam'\n",
            " 'spam' 'ham' 'ham' 'spam' 'spam' 'spam' 'ham' 'ham' 'ham' 'ham' 'ham'\n",
            " 'ham' 'spam' 'ham' 'ham' 'ham' 'ham' 'spam' 'ham' 'ham' 'ham' 'spam'\n",
            " 'ham' 'ham' 'ham' 'ham' 'ham' 'spam' 'ham' 'ham' 'spam' 'ham' 'ham' 'ham'\n",
            " 'spam' 'spam' 'ham' 'ham' 'ham' 'ham' 'ham' 'ham' 'spam' 'ham' 'ham'\n",
            " 'ham' 'spam' 'ham' 'ham' 'spam' 'ham' 'ham' 'ham' 'ham' 'ham' 'ham' 'ham'\n",
            " 'spam' 'ham' 'ham' 'spam' 'spam' 'ham' 'ham' 'spam' 'spam' 'ham' 'ham'\n",
            " 'spam' 'ham' 'ham' 'spam' 'ham' 'spam' 'spam' 'ham' 'spam' 'ham' 'spam'\n",
            " 'ham' 'ham' 'ham' 'ham' 'spam' 'ham' 'spam' 'ham' 'spam' 'spam' 'spam'\n",
            " 'ham' 'ham' 'spam' 'ham' 'ham' 'spam' 'ham' 'ham' 'ham' 'ham' 'ham' 'ham'\n",
            " 'ham' 'ham' 'ham' 'ham' 'ham' 'ham' 'ham' 'ham' 'spam' 'ham' 'spam' 'ham'\n",
            " 'spam' 'ham' 'ham' 'spam' 'ham' 'ham' 'ham' 'ham' 'ham' 'spam' 'ham'\n",
            " 'ham' 'ham' 'ham' 'ham' 'ham' 'spam' 'ham' 'spam' 'ham' 'ham' 'ham'\n",
            " 'spam' 'ham' 'ham' 'ham' 'ham' 'ham' 'ham' 'ham' 'spam' 'ham' 'ham' 'ham'\n",
            " 'ham' 'ham' 'ham' 'ham' 'ham' 'ham' 'ham' 'ham' 'spam' 'ham' 'spam' 'ham'\n",
            " 'spam' 'spam' 'ham' 'ham' 'ham' 'spam' 'ham' 'ham' 'spam' 'ham' 'ham'\n",
            " 'ham' 'spam' 'ham' 'ham' 'spam' 'ham' 'ham' 'spam' 'ham' 'ham' 'spam'\n",
            " 'ham' 'ham' 'ham' 'ham' 'ham' 'spam' 'ham' 'ham' 'ham' 'ham' 'spam' 'ham'\n",
            " 'ham' 'ham' 'spam' 'spam' 'ham' 'spam' 'spam' 'ham' 'spam' 'ham' 'ham'\n",
            " 'ham' 'ham' 'spam' 'ham' 'ham' 'ham' 'spam' 'ham' 'spam' 'ham' 'ham'\n",
            " 'ham' 'ham' 'ham' 'ham' 'ham' 'spam' 'ham' 'ham' 'ham' 'ham' 'ham' 'ham'\n",
            " 'ham' 'ham' 'ham' 'ham' 'ham' 'ham' 'ham' 'spam' 'ham' 'ham' 'ham' 'ham'\n",
            " 'ham' 'ham' 'spam' 'ham' 'ham' 'ham' 'ham' 'spam' 'ham' 'ham' 'ham'\n",
            " 'spam' 'ham' 'ham' 'ham' 'ham' 'ham' 'spam' 'spam' 'ham' 'ham' 'ham'\n",
            " 'ham' 'ham' 'spam' 'ham' 'ham' 'spam' 'ham' 'ham' 'ham' 'ham' 'ham' 'ham'\n",
            " 'spam' 'ham' 'ham' 'ham' 'ham' 'ham' 'ham' 'ham' 'ham' 'ham' 'ham' 'ham'\n",
            " 'ham' 'ham' 'ham' 'ham' 'ham' 'spam' 'ham' 'ham' 'ham' 'spam' 'ham' 'ham'\n",
            " 'spam' 'ham' 'ham' 'ham' 'spam' 'ham' 'ham' 'ham' 'ham' 'ham' 'spam'\n",
            " 'spam' 'ham' 'ham' 'spam' 'spam' 'spam' 'ham' 'spam' 'ham' 'ham' 'ham'\n",
            " 'ham' 'ham' 'ham' 'ham' 'spam' 'ham' 'spam' 'spam' 'ham' 'spam' 'spam'\n",
            " 'spam' 'ham' 'ham' 'ham' 'spam' 'ham' 'spam' 'ham' 'ham' 'spam' 'ham'\n",
            " 'ham' 'spam' 'ham' 'ham' 'ham' 'ham' 'ham' 'ham' 'ham' 'ham' 'ham' 'ham'\n",
            " 'spam' 'ham' 'ham' 'spam' 'ham' 'ham' 'ham' 'ham' 'ham' 'ham' 'spam'\n",
            " 'spam' 'ham' 'ham' 'ham' 'ham' 'ham' 'spam' 'ham' 'ham' 'spam' 'ham'\n",
            " 'spam' 'ham' 'ham' 'spam' 'ham' 'ham' 'spam' 'spam' 'spam' 'ham' 'ham'\n",
            " 'ham' 'ham' 'ham' 'ham' 'ham' 'ham' 'ham' 'ham' 'ham' 'ham' 'ham' 'ham'\n",
            " 'spam' 'spam' 'ham' 'spam' 'ham' 'ham' 'ham' 'ham' 'ham' 'ham' 'ham'\n",
            " 'ham' 'ham' 'ham' 'ham' 'ham' 'ham' 'ham' 'ham' 'ham' 'ham' 'ham' 'ham'\n",
            " 'spam' 'ham' 'ham' 'ham' 'spam' 'spam' 'ham' 'spam' 'ham' 'ham' 'ham'\n",
            " 'ham' 'ham' 'ham' 'ham' 'ham' 'ham' 'ham' 'ham' 'ham' 'spam' 'ham' 'spam'\n",
            " 'ham' 'spam' 'ham' 'ham' 'ham' 'spam' 'spam' 'ham' 'ham' 'ham' 'ham'\n",
            " 'ham' 'ham' 'ham' 'ham' 'spam' 'ham' 'ham' 'ham' 'spam' 'ham' 'spam'\n",
            " 'ham' 'ham' 'ham' 'ham' 'ham' 'ham' 'ham' 'spam' 'spam' 'spam' 'ham'\n",
            " 'ham' 'ham' 'ham' 'ham' 'ham' 'ham' 'ham' 'spam' 'spam' 'ham' 'ham'\n",
            " 'spam' 'ham' 'spam' 'ham' 'ham' 'ham' 'spam' 'ham' 'ham' 'ham' 'ham'\n",
            " 'ham' 'ham' 'ham' 'ham' 'ham' 'spam' 'ham' 'ham' 'ham' 'spam' 'ham' 'ham'\n",
            " 'ham' 'spam' 'ham' 'ham' 'spam' 'ham' 'spam' 'ham' 'spam' 'ham' 'spam'\n",
            " 'ham' 'ham' 'spam' 'spam' 'ham' 'spam' 'ham' 'ham' 'spam' 'ham' 'ham'\n",
            " 'ham' 'ham' 'ham' 'ham' 'ham' 'ham' 'spam' 'ham' 'ham' 'spam' 'ham'\n",
            " 'spam' 'spam' 'spam' 'ham' 'ham' 'ham' 'ham' 'ham' 'spam' 'spam' 'ham'\n",
            " 'ham' 'ham' 'ham' 'ham' 'ham' 'ham' 'ham' 'spam' 'spam' 'ham' 'ham'\n",
            " 'spam' 'ham' 'ham' 'ham' 'ham' 'spam' 'ham' 'ham' 'ham' 'ham' 'ham'\n",
            " 'spam' 'ham' 'spam' 'spam' 'ham' 'ham' 'ham' 'ham' 'spam' 'spam' 'ham'\n",
            " 'ham' 'spam' 'ham' 'spam' 'ham' 'ham' 'ham' 'ham' 'ham' 'ham' 'ham' 'ham'\n",
            " 'ham' 'ham' 'spam' 'ham' 'spam' 'ham' 'spam' 'spam' 'ham' 'ham' 'ham'\n",
            " 'ham' 'ham' 'ham' 'ham' 'ham' 'ham' 'spam' 'ham' 'ham' 'ham' 'spam'\n",
            " 'spam' 'spam' 'ham' 'spam' 'ham' 'ham' 'ham' 'spam' 'ham' 'ham' 'ham'\n",
            " 'spam' 'ham' 'spam' 'spam' 'spam' 'ham' 'ham' 'ham' 'ham' 'spam' 'spam'\n",
            " 'ham' 'spam' 'ham' 'ham' 'ham' 'spam' 'ham' 'ham' 'ham' 'spam' 'spam'\n",
            " 'ham' 'ham' 'ham' 'ham' 'ham' 'ham' 'ham' 'ham' 'ham' 'ham' 'ham' 'ham'\n",
            " 'spam' 'ham' 'ham' 'ham' 'ham' 'ham' 'ham' 'spam' 'ham' 'ham' 'spam'\n",
            " 'ham' 'spam' 'ham' 'ham' 'ham' 'ham' 'spam' 'ham' 'ham' 'ham' 'ham'\n",
            " 'spam' 'ham' 'spam' 'ham' 'spam' 'ham' 'ham' 'ham' 'ham' 'ham' 'spam'\n",
            " 'ham' 'ham' 'ham' 'ham' 'ham' 'spam' 'ham' 'spam' 'ham' 'ham' 'spam'\n",
            " 'ham' 'spam' 'ham' 'ham' 'ham' 'ham' 'ham' 'ham' 'ham' 'ham' 'ham' 'spam'\n",
            " 'spam' 'ham' 'ham' 'spam' 'ham' 'ham' 'ham' 'spam' 'ham' 'ham' 'spam'\n",
            " 'ham' 'ham' 'ham' 'spam' 'ham' 'ham' 'spam' 'spam' 'ham' 'ham' 'ham'\n",
            " 'ham' 'ham' 'ham' 'ham' 'ham' 'ham' 'spam' 'ham' 'ham' 'ham' 'ham' 'spam'\n",
            " 'ham' 'spam' 'ham' 'spam' 'ham' 'spam' 'spam' 'spam' 'ham' 'ham' 'ham'\n",
            " 'ham' 'ham' 'ham' 'spam' 'spam' 'spam' 'ham' 'ham' 'ham' 'ham' 'ham'\n",
            " 'ham' 'spam' 'ham' 'ham' 'spam' 'spam' 'spam' 'ham' 'ham' 'ham' 'spam'\n",
            " 'ham' 'ham' 'ham' 'spam' 'ham' 'ham' 'spam' 'spam' 'spam' 'spam' 'spam'\n",
            " 'ham' 'ham' 'ham' 'ham' 'ham' 'ham' 'ham' 'ham' 'ham' 'spam' 'ham' 'spam'\n",
            " 'ham' 'spam' 'ham' 'spam' 'ham' 'spam' 'ham' 'ham' 'spam' 'ham' 'ham'\n",
            " 'ham' 'spam' 'ham' 'spam' 'ham' 'spam' 'ham' 'ham' 'spam' 'spam' 'ham'\n",
            " 'spam' 'ham' 'ham' 'ham' 'ham' 'spam' 'ham' 'ham' 'ham' 'ham' 'ham' 'ham'\n",
            " 'ham' 'ham' 'ham' 'spam' 'ham' 'ham' 'ham' 'ham' 'ham' 'ham' 'spam' 'ham'\n",
            " 'spam' 'ham' 'spam' 'ham' 'ham' 'ham' 'spam' 'spam' 'spam' 'ham' 'spam'\n",
            " 'spam' 'spam' 'ham' 'ham' 'spam' 'spam' 'ham' 'ham' 'ham' 'ham' 'ham'\n",
            " 'ham' 'ham' 'spam' 'spam' 'ham' 'ham' 'ham' 'ham' 'spam' 'ham' 'spam'\n",
            " 'ham' 'spam' 'ham' 'spam' 'ham' 'ham' 'ham' 'ham' 'ham' 'ham' 'ham' 'ham'\n",
            " 'ham' 'ham' 'spam' 'ham' 'spam' 'ham' 'ham' 'spam' 'ham' 'ham' 'ham'\n",
            " 'ham' 'ham' 'spam' 'spam' 'ham' 'ham' 'ham' 'ham' 'spam' 'ham' 'spam'\n",
            " 'ham' 'spam' 'spam' 'spam' 'ham']\n"
          ]
        }
      ]
    },
    {
      "cell_type": "markdown",
      "source": [
        "**17) EVALUATE THE MODEL ON THE TEST DATASET**"
      ],
      "metadata": {
        "id": "eH4-SbYTVcw3"
      }
    },
    {
      "cell_type": "code",
      "source": [
        "prediction = classifier.predict(X_test)\n",
        "class_repo = classification_report(y_test, prediction)\n",
        "confus_mat = confusion_matrix(y_test, prediction)\n",
        "acc_sc = accuracy_score(y_test, prediction)\n",
        "print(\"----------------------\")\n",
        "print(\"CLASSIFICATION REPORT: \\n---------------------- \\n\\n\", class_repo)\n",
        "print()\n",
        "print(\"----------------------\")\n",
        "print(\"CONFUSION MATRIX: \\n---------------------- \\n\\n\", confus_mat)\n",
        "print()\n",
        "print(\"----------------------\")\n",
        "print(\"ACCURACY SCORE: \\n---------------------- \\n\\n\", acc_sc)"
      ],
      "metadata": {
        "colab": {
          "base_uri": "https://localhost:8080/"
        },
        "id": "3sdEFQBRVWC-",
        "outputId": "0f1f5c50-bc0c-4709-b5d4-1ba8dafab269"
      },
      "execution_count": 107,
      "outputs": [
        {
          "output_type": "stream",
          "name": "stdout",
          "text": [
            "----------------------\n",
            "CLASSIFICATION REPORT: \n",
            "---------------------- \n",
            "\n",
            "               precision    recall  f1-score   support\n",
            "\n",
            "         ham       0.98      0.98      0.98       722\n",
            "        spam       0.95      0.96      0.96       277\n",
            "\n",
            "    accuracy                           0.98       999\n",
            "   macro avg       0.97      0.97      0.97       999\n",
            "weighted avg       0.98      0.98      0.98       999\n",
            "\n",
            "\n",
            "----------------------\n",
            "CONFUSION MATRIX: \n",
            "---------------------- \n",
            "\n",
            " [[709  13]\n",
            " [ 11 266]]\n",
            "\n",
            "----------------------\n",
            "ACCURACY SCORE: \n",
            "---------------------- \n",
            "\n",
            " 0.975975975975976\n"
          ]
        }
      ]
    },
    {
      "cell_type": "markdown",
      "source": [
        "**TEST ACCURACY LEVEL: 97% which indicates a high precision value**"
      ],
      "metadata": {
        "id": "1Q6WEBfwnFV8"
      }
    }
  ]
}